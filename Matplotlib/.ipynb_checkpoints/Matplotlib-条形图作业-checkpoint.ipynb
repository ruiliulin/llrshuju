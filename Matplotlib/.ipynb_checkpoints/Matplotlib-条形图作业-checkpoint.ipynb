{
 "cells": [
  {
   "cell_type": "markdown",
   "metadata": {},
   "source": [
    "# Matplotlib作业"
   ]
  },
  {
   "cell_type": "markdown",
   "metadata": {},
   "source": [
    "## 二、条形图作业要求：\n",
    "- 1.以下数据是三类学校（普通本科、中等职业教育、普通高中）在2014-2018（包含2018）的报名人数，用DataFrame构建。\n",
    "- 2.把年份当做x轴，报名人数当做y轴的值。\n",
    "- 3.绘制分组条形图，同一个年份的放在一个组。\n",
    "- 4.图例横向排列（提示：用legend的ncol参数，ncol表示的是把图例分成多少列显示）。\n",
    "- 5.把报名人数在图上绘制出来。\n",
    "\n",
    "- 数据：\n",
    "data = {\n",
    "    \"普通本科\":[721,738,749,761,791],\n",
    "    \"中等职业教育\": [620,601,593,582,557],\n",
    "    \"普通高中\": [797,797,803,800,793]\n",
    "}"
   ]
  },
  {
   "cell_type": "code",
   "execution_count": 1,
   "metadata": {},
   "outputs": [],
   "source": [
    "import matplotlib.pyplot as plt\n",
    "import pandas as pd\n",
    "import numpy as np\n",
    "import matplotlib.font_manager as f_m\n",
    "font = f_m.FontProperties(fname=\"C:\\Windows\\Fonts\\msyh.ttc\", size=12)"
   ]
  },
  {
   "cell_type": "code",
   "execution_count": 2,
   "metadata": {},
   "outputs": [
    {
     "data": {
      "text/html": [
       "<div>\n",
       "<style scoped>\n",
       "    .dataframe tbody tr th:only-of-type {\n",
       "        vertical-align: middle;\n",
       "    }\n",
       "\n",
       "    .dataframe tbody tr th {\n",
       "        vertical-align: top;\n",
       "    }\n",
       "\n",
       "    .dataframe thead th {\n",
       "        text-align: right;\n",
       "    }\n",
       "</style>\n",
       "<table border=\"1\" class=\"dataframe\">\n",
       "  <thead>\n",
       "    <tr style=\"text-align: right;\">\n",
       "      <th></th>\n",
       "      <th>2014</th>\n",
       "      <th>2015</th>\n",
       "      <th>2016</th>\n",
       "      <th>2017</th>\n",
       "      <th>2018</th>\n",
       "    </tr>\n",
       "  </thead>\n",
       "  <tbody>\n",
       "    <tr>\n",
       "      <th>普通本科</th>\n",
       "      <td>721</td>\n",
       "      <td>738</td>\n",
       "      <td>749</td>\n",
       "      <td>761</td>\n",
       "      <td>791</td>\n",
       "    </tr>\n",
       "    <tr>\n",
       "      <th>中等职业教育</th>\n",
       "      <td>620</td>\n",
       "      <td>601</td>\n",
       "      <td>593</td>\n",
       "      <td>582</td>\n",
       "      <td>557</td>\n",
       "    </tr>\n",
       "    <tr>\n",
       "      <th>普通高中</th>\n",
       "      <td>797</td>\n",
       "      <td>797</td>\n",
       "      <td>803</td>\n",
       "      <td>800</td>\n",
       "      <td>793</td>\n",
       "    </tr>\n",
       "  </tbody>\n",
       "</table>\n",
       "</div>"
      ],
      "text/plain": [
       "        2014  2015  2016  2017  2018\n",
       "普通本科     721   738   749   761   791\n",
       "中等职业教育   620   601   593   582   557\n",
       "普通高中     797   797   803   800   793"
      ]
     },
     "execution_count": 2,
     "metadata": {},
     "output_type": "execute_result"
    }
   ],
   "source": [
    "data = {\n",
    "    \"普通本科\":[721,738,749,761,791],\n",
    "    \"中等职业教育\": [620,601,593,582,557],\n",
    "    \"普通高中\": [797,797,803,800,793]\n",
    "}\n",
    "data_df = pd.DataFrame(data, index=range(2014, 2019))\n",
    "data_df = data_df.T\n",
    "data_df"
   ]
  },
  {
   "cell_type": "code",
   "execution_count": 9,
   "metadata": {},
   "outputs": [
    {
     "data": {
      "image/png": "[encoded data removed]",
      "text/plain": [
       "<Figure size 1080x360 with 1 Axes>"
      ]
     },
     "metadata": {
      "needs_background": "light"
     },
     "output_type": "display_data"
    }
   ],
   "source": [
    "plt.figure(figsize=(15, 5))\n",
    "\n",
    "xticks = data_df.columns\n",
    "bar_w = 0.1\n",
    "\n",
    "for i in range(3):\n",
    "    x = xticks+(-1+i)*bar_w\n",
    "    y = data_df.iloc[i]\n",
    "    plt.bar(x, y, width=bar_w, label=data_df.index[i])\n",
    "    for k, v in zip(x, y):\n",
    "        plt.annotate('%d' % v, xy=(k, v), xytext=(k-0.055, v+10))\n",
    "\n",
    "plt.yticks(range(0, 1100, 200), range(0, 1100, 200))\n",
    "plt.ylabel(\"报名人数(万人)\", fontproperties=font)\n",
    "\n",
    "plt.legend(prop=font, ncol=3)\n",
    "\n",
    "plt.title(\"三类学校在2014年-2018年的报名人数\", fontproperties=font)\n",
    "\n",
    "plt.show()"
   ]
  },
  {
   "cell_type": "code",
   "execution_count": 4,
   "metadata": {},
   "outputs": [
    {
     "data": {
      "text/html": [
       "<div>\n",
       "<style scoped>\n",
       "    .dataframe tbody tr th:only-of-type {\n",
       "        vertical-align: middle;\n",
       "    }\n",
       "\n",
       "    .dataframe tbody tr th {\n",
       "        vertical-align: top;\n",
       "    }\n",
       "\n",
       "    .dataframe thead th {\n",
       "        text-align: right;\n",
       "    }\n",
       "</style>\n",
       "<table border=\"1\" class=\"dataframe\">\n",
       "  <thead>\n",
       "    <tr style=\"text-align: right;\">\n",
       "      <th></th>\n",
       "      <th>普通本科</th>\n",
       "      <th>中等职业教育</th>\n",
       "      <th>普通高中</th>\n",
       "    </tr>\n",
       "  </thead>\n",
       "  <tbody>\n",
       "    <tr>\n",
       "      <th>0</th>\n",
       "      <td>721</td>\n",
       "      <td>620</td>\n",
       "      <td>797</td>\n",
       "    </tr>\n",
       "    <tr>\n",
       "      <th>1</th>\n",
       "      <td>738</td>\n",
       "      <td>601</td>\n",
       "      <td>797</td>\n",
       "    </tr>\n",
       "    <tr>\n",
       "      <th>2</th>\n",
       "      <td>749</td>\n",
       "      <td>593</td>\n",
       "      <td>803</td>\n",
       "    </tr>\n",
       "    <tr>\n",
       "      <th>3</th>\n",
       "      <td>761</td>\n",
       "      <td>582</td>\n",
       "      <td>800</td>\n",
       "    </tr>\n",
       "    <tr>\n",
       "      <th>4</th>\n",
       "      <td>791</td>\n",
       "      <td>557</td>\n",
       "      <td>793</td>\n",
       "    </tr>\n",
       "  </tbody>\n",
       "</table>\n",
       "</div>"
      ],
      "text/plain": [
       "   普通本科  中等职业教育  普通高中\n",
       "0   721     620   797\n",
       "1   738     601   797\n",
       "2   749     593   803\n",
       "3   761     582   800\n",
       "4   791     557   793"
      ]
     },
     "execution_count": 4,
     "metadata": {},
     "output_type": "execute_result"
    }
   ],
   "source": [
    "# 参考答案\n",
    "import matplotlib.pyplot as plt\n",
    "import pandas as pd\n",
    "import numpy as np\n",
    "from matplotlib import font_manager\n",
    "data = {\n",
    "    \"普通本科\":[721,738,749,761,791],\n",
    "    \"中等职业教育\": [620,601,593,582,557],\n",
    "    \"普通高中\": [797,797,803,800,793]\n",
    "}\n",
    "df = pd.DataFrame(data=data)\n",
    "df"
   ]
  },
  {
   "cell_type": "code",
   "execution_count": 5,
   "metadata": {},
   "outputs": [
    {
     "data": {
      "image/png": "[encoded data removed]",
      "text/plain": [
       "<Figure size 1080x360 with 1 Axes>"
      ]
     },
     "metadata": {
      "needs_background": "light"
     },
     "output_type": "display_data"
    }
   ],
   "source": [
    "font = font_manager.FontProperties(fname=r\"C:\\\\Windows\\\\Fonts\\\\msyh.ttc\",size=12)\n",
    "# 设置图的大小\n",
    "plt.figure(figsize=(15,5))\n",
    "bar_width = 0.2\n",
    "# x轴的刻度\n",
    "xticks = np.arange(2014,2019)\n",
    "# 循环列，按照年份绘制条形图\n",
    "for index,column in enumerate(df.columns):\n",
    "    values = df[column]\n",
    "    c_xticks = xticks+bar_width*(index-1)\n",
    "    plt.bar(c_xticks,values,width=bar_width,label=column)\n",
    "    for x,y in zip(c_xticks,values):\n",
    "        plt.annotate(y,xy=(x,y),xytext=(x-0.05,y+10))\n",
    "# 设置Y轴顶部的最大值\n",
    "plt.ylim(top=1000)\n",
    "# 设置Y轴的标题显示，默认是垂直显示，使用rotation=horizontal变成横向显示，并且通过y修改在y轴的位置\n",
    "plt.ylabel(\"万人\",fontproperties=font,rotation=\"horizontal\")\n",
    "# 通过set_label_coords才能灵活设置ylabel的位置。以下代码可选实现（不懂删掉没有任何关系）\n",
    "plt.gca().yaxis.set_label_coords(-0.02,1.02)\n",
    "# 设置图例，ncol表示要把图例显示成几列，loc表示在Axes中的哪个位置\n",
    "plt.legend(prop=font,ncol=3,loc='upper right')\n",
    "# 设置标题\n",
    "plt.title(\"2014-2018普通本科、中等职业教育、普通高中招生人数\",fontproperties=font)\n",
    "plt.show()"
   ]
  }
 ],
 "metadata": {
  "kernelspec": {
   "display_name": "Python 3",
   "language": "python",
   "name": "python3"
  },
  "language_info": {
   "codemirror_mode": {
    "name": "ipython",
    "version": 3
   },
   "file_extension": ".py",
   "mimetype": "text/x-python",
   "name": "python",
   "nbconvert_exporter": "python",
   "pygments_lexer": "ipython3",
   "version": "3.7.0"
  }
 },
 "nbformat": 4,
 "nbformat_minor": 2
}
