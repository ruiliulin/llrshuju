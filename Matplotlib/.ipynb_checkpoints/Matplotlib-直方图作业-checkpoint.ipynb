{
 "cells": [
  {
   "cell_type": "markdown",
   "metadata": {},
   "source": [
    "# Matplotlib作业"
   ]
  },
  {
   "cell_type": "markdown",
   "metadata": {},
   "source": [
    "## 三、直方图作业要求\n",
    "\n",
    "- 1.用pandas从scores.csv读取出来，形成一个DataFrame对象。\n",
    "- 2.绘制化学成绩的直方图（chem列）。\n",
    "- 3.标记x轴的坐标。\n",
    "- 4.标记每个条形上的具体数值。\n"
   ]
  },
  {
   "cell_type": "code",
   "execution_count": 1,
   "metadata": {},
   "outputs": [],
   "source": [
    "import matplotlib.pyplot as plt\n",
    "import pandas as pd\n",
    "import numpy as np\n",
    "import matplotlib.font_manager as f_m"
   ]
  },
  {
   "cell_type": "code",
   "execution_count": 2,
   "metadata": {},
   "outputs": [],
   "source": [
    "font = f_m.FontProperties(fname=r\"C:\\Windows\\Fonts\\msyh.ttc\", size=20)"
   ]
  },
  {
   "cell_type": "code",
   "execution_count": 3,
   "metadata": {
    "scrolled": true
   },
   "outputs": [
    {
     "data": {
      "text/html": [
       "<div>\n",
       "<style scoped>\n",
       "    .dataframe tbody tr th:only-of-type {\n",
       "        vertical-align: middle;\n",
       "    }\n",
       "\n",
       "    .dataframe tbody tr th {\n",
       "        vertical-align: top;\n",
       "    }\n",
       "\n",
       "    .dataframe thead th {\n",
       "        text-align: right;\n",
       "    }\n",
       "</style>\n",
       "<table border=\"1\" class=\"dataframe\">\n",
       "  <thead>\n",
       "    <tr style=\"text-align: right;\">\n",
       "      <th></th>\n",
       "      <th>num</th>\n",
       "      <th>class</th>\n",
       "      <th>chn</th>\n",
       "      <th>math</th>\n",
       "      <th>eng</th>\n",
       "      <th>phy</th>\n",
       "      <th>chem</th>\n",
       "      <th>politics</th>\n",
       "      <th>bio</th>\n",
       "      <th>history</th>\n",
       "      <th>geo</th>\n",
       "      <th>pe</th>\n",
       "    </tr>\n",
       "  </thead>\n",
       "  <tbody>\n",
       "    <tr>\n",
       "      <th>0</th>\n",
       "      <td>158</td>\n",
       "      <td>3</td>\n",
       "      <td>99.0</td>\n",
       "      <td>120</td>\n",
       "      <td>114.0</td>\n",
       "      <td>70.0</td>\n",
       "      <td>49.50</td>\n",
       "      <td>50.0</td>\n",
       "      <td>49.0</td>\n",
       "      <td>48.5</td>\n",
       "      <td>49.5</td>\n",
       "      <td>60</td>\n",
       "    </tr>\n",
       "    <tr>\n",
       "      <th>1</th>\n",
       "      <td>442</td>\n",
       "      <td>7</td>\n",
       "      <td>107.0</td>\n",
       "      <td>120</td>\n",
       "      <td>118.5</td>\n",
       "      <td>68.6</td>\n",
       "      <td>43.00</td>\n",
       "      <td>49.0</td>\n",
       "      <td>48.5</td>\n",
       "      <td>48.5</td>\n",
       "      <td>49.0</td>\n",
       "      <td>56</td>\n",
       "    </tr>\n",
       "    <tr>\n",
       "      <th>2</th>\n",
       "      <td>249</td>\n",
       "      <td>4</td>\n",
       "      <td>98.0</td>\n",
       "      <td>120</td>\n",
       "      <td>116.0</td>\n",
       "      <td>70.0</td>\n",
       "      <td>47.50</td>\n",
       "      <td>47.0</td>\n",
       "      <td>49.0</td>\n",
       "      <td>47.5</td>\n",
       "      <td>49.0</td>\n",
       "      <td>60</td>\n",
       "    </tr>\n",
       "    <tr>\n",
       "      <th>3</th>\n",
       "      <td>573</td>\n",
       "      <td>9</td>\n",
       "      <td>102.0</td>\n",
       "      <td>113</td>\n",
       "      <td>111.5</td>\n",
       "      <td>70.0</td>\n",
       "      <td>47.00</td>\n",
       "      <td>49.0</td>\n",
       "      <td>49.0</td>\n",
       "      <td>49.0</td>\n",
       "      <td>49.5</td>\n",
       "      <td>60</td>\n",
       "    </tr>\n",
       "    <tr>\n",
       "      <th>4</th>\n",
       "      <td>310</td>\n",
       "      <td>5</td>\n",
       "      <td>103.0</td>\n",
       "      <td>120</td>\n",
       "      <td>111.5</td>\n",
       "      <td>70.0</td>\n",
       "      <td>44.75</td>\n",
       "      <td>46.5</td>\n",
       "      <td>48.0</td>\n",
       "      <td>48.0</td>\n",
       "      <td>48.0</td>\n",
       "      <td>60</td>\n",
       "    </tr>\n",
       "  </tbody>\n",
       "</table>\n",
       "</div>"
      ],
      "text/plain": [
       "   num  class    chn  math    eng   phy   chem  politics   bio  history   geo  \\\n",
       "0  158      3   99.0   120  114.0  70.0  49.50      50.0  49.0     48.5  49.5   \n",
       "1  442      7  107.0   120  118.5  68.6  43.00      49.0  48.5     48.5  49.0   \n",
       "2  249      4   98.0   120  116.0  70.0  47.50      47.0  49.0     47.5  49.0   \n",
       "3  573      9  102.0   113  111.5  70.0  47.00      49.0  49.0     49.0  49.5   \n",
       "4  310      5  103.0   120  111.5  70.0  44.75      46.5  48.0     48.0  48.0   \n",
       "\n",
       "   pe  \n",
       "0  60  \n",
       "1  56  \n",
       "2  60  \n",
       "3  60  \n",
       "4  60  "
      ]
     },
     "execution_count": 3,
     "metadata": {},
     "output_type": "execute_result"
    }
   ],
   "source": [
    "df = pd.read_csv(\"scores.csv\")\n",
    "df.head()"
   ]
  },
  {
   "cell_type": "code",
   "execution_count": 4,
   "metadata": {},
   "outputs": [
    {
     "data": {
      "image/png": "[encoded data removed]",
      "text/plain": [
       "<Figure size 1080x360 with 1 Axes>"
      ]
     },
     "metadata": {
      "needs_background": "light"
     },
     "output_type": "display_data"
    }
   ],
   "source": [
    "plt.figure(figsize=(15, 5))\n",
    "nums, bins, patches = plt.hist(df['chem'], 20, edgecolor=\"k\")\n",
    "\n",
    "plt.xticks(bins, [\"%.1f\" % x for x in bins])\n",
    "plt.ylim(0, 70)\n",
    "plt.title(\"化学成绩\", fontproperties=font)\n",
    "for n,b in zip(nums, bins):\n",
    "    plt.annotate(\"%d\" % n, xy=(b, n), xytext=(b+0.75, n+0.5))\n",
    "    \n",
    "plt.show()"
   ]
  },
  {
   "cell_type": "code",
   "execution_count": 5,
   "metadata": {},
   "outputs": [],
   "source": [
    "# 参考答案\n",
    "import matplotlib.pyplot as plt\n",
    "import pandas as pd\n",
    "from matplotlib import font_manager\n",
    "scores_df = pd.read_csv(\"scores.csv\")"
   ]
  },
  {
   "cell_type": "code",
   "execution_count": 6,
   "metadata": {},
   "outputs": [
    {
     "data": {
      "image/png": "[encoded data removed]",
      "text/plain": [
       "<Figure size 1080x360 with 1 Axes>"
      ]
     },
     "metadata": {
      "needs_background": "light"
     },
     "output_type": "display_data"
    }
   ],
   "source": [
    "font = font_manager.FontProperties(fname=r\"C:\\\\Windows\\\\Fonts\\\\msyh.ttc\",size=14)\n",
    "plt.figure(figsize=(15,5))\n",
    "nums,bins,_ = plt.hist(scores_df['chem'],bins=20,edgecolor=\"k\")\n",
    "for num,bin in zip(nums,bins):\n",
    "    plt.annotate(\"%d\"%num,xy=(bin,num),xytext=(bin+0.8,num+1))\n",
    "plt.xticks(bins,['%.2f'%x for x in bins])\n",
    "plt.title(\"某班化学成绩直方图\",fontproperties=font)\n",
    "plt.show()"
   ]
  }
 ],
 "metadata": {
  "kernelspec": {
   "display_name": "Python 3",
   "language": "python",
   "name": "python3"
  },
  "language_info": {
   "codemirror_mode": {
    "name": "ipython",
    "version": 3
   },
   "file_extension": ".py",
   "mimetype": "text/x-python",
   "name": "python",
   "nbconvert_exporter": "python",
   "pygments_lexer": "ipython3",
   "version": "3.7.0"
  }
 },
 "nbformat": 4,
 "nbformat_minor": 2
}
